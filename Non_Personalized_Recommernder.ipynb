{
  "nbformat": 4,
  "nbformat_minor": 0,
  "metadata": {
    "colab": {
      "name": "Non-Personalized Recommernder.ipynb",
      "provenance": []
    },
    "kernelspec": {
      "name": "python3",
      "display_name": "Python 3"
    },
    "language_info": {
      "name": "python"
    }
  },
  "cells": [
    {
      "cell_type": "code",
      "metadata": {
        "id": "T3jqfP5mQJZh"
      },
      "source": [
        "import pandas as pd"
      ],
      "execution_count": 1,
      "outputs": []
    },
    {
      "cell_type": "code",
      "metadata": {
        "colab": {
          "base_uri": "https://localhost:8080/"
        },
        "id": "YwhLrDQYR16C",
        "outputId": "fb40e8d1-9eed-4a3a-d112-5e314a147204"
      },
      "source": [
        "!curl https://raw.githubusercontent.com/tvthanh0401/Recommender-System/main/SampleData/ratings.csv --output ratings.csv\n",
        "!curl https://raw.githubusercontent.com/tvthanh0401/Recommender-System/main/SampleData/movies.csv --output movies.csv"
      ],
      "execution_count": 2,
      "outputs": [
        {
          "output_type": "stream",
          "text": [
            "  % Total    % Received % Xferd  Average Speed   Time    Time     Time  Current\n",
            "                                 Dload  Upload   Total   Spent    Left  Speed\n",
            "100 6696k  100 6696k    0     0  13.6M      0 --:--:-- --:--:-- --:--:-- 13.6M\n",
            "  % Total    % Received % Xferd  Average Speed   Time    Time     Time  Current\n",
            "                                 Dload  Upload   Total   Spent    Left  Speed\n",
            "100  133k  100  133k    0     0   523k      0 --:--:-- --:--:-- --:--:--  523k\n"
          ],
          "name": "stdout"
        }
      ]
    },
    {
      "cell_type": "code",
      "metadata": {
        "id": "5GK93omoRKe4"
      },
      "source": [
        "movies = pd.read_csv('movies.csv', encoding='latin')"
      ],
      "execution_count": 3,
      "outputs": []
    },
    {
      "cell_type": "code",
      "metadata": {
        "colab": {
          "base_uri": "https://localhost:8080/",
          "height": 204
        },
        "id": "JfQj6dfzRiwl",
        "outputId": "d876cd9e-d88f-450f-8a5a-b5b31736386c"
      },
      "source": [
        "movies.head()"
      ],
      "execution_count": 4,
      "outputs": [
        {
          "output_type": "execute_result",
          "data": {
            "text/html": [
              "<div>\n",
              "<style scoped>\n",
              "    .dataframe tbody tr th:only-of-type {\n",
              "        vertical-align: middle;\n",
              "    }\n",
              "\n",
              "    .dataframe tbody tr th {\n",
              "        vertical-align: top;\n",
              "    }\n",
              "\n",
              "    .dataframe thead th {\n",
              "        text-align: right;\n",
              "    }\n",
              "</style>\n",
              "<table border=\"1\" class=\"dataframe\">\n",
              "  <thead>\n",
              "    <tr style=\"text-align: right;\">\n",
              "      <th></th>\n",
              "      <th>movieId</th>\n",
              "      <th>title</th>\n",
              "      <th>genres</th>\n",
              "    </tr>\n",
              "  </thead>\n",
              "  <tbody>\n",
              "    <tr>\n",
              "      <th>0</th>\n",
              "      <td>1</td>\n",
              "      <td>Toy Story (1995)</td>\n",
              "      <td>Adventure|Animation|Children|Comedy|Fantasy</td>\n",
              "    </tr>\n",
              "    <tr>\n",
              "      <th>1</th>\n",
              "      <td>2</td>\n",
              "      <td>Jumanji (1995)</td>\n",
              "      <td>Adventure|Children|Fantasy</td>\n",
              "    </tr>\n",
              "    <tr>\n",
              "      <th>2</th>\n",
              "      <td>3</td>\n",
              "      <td>Grumpier Old Men (1995)</td>\n",
              "      <td>Comedy|Romance</td>\n",
              "    </tr>\n",
              "    <tr>\n",
              "      <th>3</th>\n",
              "      <td>4</td>\n",
              "      <td>Waiting to Exhale (1995)</td>\n",
              "      <td>Comedy|Drama|Romance</td>\n",
              "    </tr>\n",
              "    <tr>\n",
              "      <th>4</th>\n",
              "      <td>5</td>\n",
              "      <td>Father of the Bride Part II (1995)</td>\n",
              "      <td>Comedy</td>\n",
              "    </tr>\n",
              "  </tbody>\n",
              "</table>\n",
              "</div>"
            ],
            "text/plain": [
              "   movieId  ...                                       genres\n",
              "0        1  ...  Adventure|Animation|Children|Comedy|Fantasy\n",
              "1        2  ...                   Adventure|Children|Fantasy\n",
              "2        3  ...                               Comedy|Romance\n",
              "3        4  ...                         Comedy|Drama|Romance\n",
              "4        5  ...                                       Comedy\n",
              "\n",
              "[5 rows x 3 columns]"
            ]
          },
          "metadata": {},
          "execution_count": 4
        }
      ]
    },
    {
      "cell_type": "code",
      "metadata": {
        "id": "GW_8PHyyRlqF"
      },
      "source": [
        "ratings = pd.read_csv('ratings.csv')"
      ],
      "execution_count": 5,
      "outputs": []
    },
    {
      "cell_type": "code",
      "metadata": {
        "colab": {
          "base_uri": "https://localhost:8080/",
          "height": 204
        },
        "id": "YqZsqVdaR0-e",
        "outputId": "d117695c-0160-4b1d-f33a-c18df34f2d9b"
      },
      "source": [
        "ratings.head()"
      ],
      "execution_count": 6,
      "outputs": [
        {
          "output_type": "execute_result",
          "data": {
            "text/html": [
              "<div>\n",
              "<style scoped>\n",
              "    .dataframe tbody tr th:only-of-type {\n",
              "        vertical-align: middle;\n",
              "    }\n",
              "\n",
              "    .dataframe tbody tr th {\n",
              "        vertical-align: top;\n",
              "    }\n",
              "\n",
              "    .dataframe thead th {\n",
              "        text-align: right;\n",
              "    }\n",
              "</style>\n",
              "<table border=\"1\" class=\"dataframe\">\n",
              "  <thead>\n",
              "    <tr style=\"text-align: right;\">\n",
              "      <th></th>\n",
              "      <th>userId</th>\n",
              "      <th>movieId</th>\n",
              "      <th>rating</th>\n",
              "      <th>timestamp</th>\n",
              "    </tr>\n",
              "  </thead>\n",
              "  <tbody>\n",
              "    <tr>\n",
              "      <th>0</th>\n",
              "      <td>12882</td>\n",
              "      <td>1</td>\n",
              "      <td>4.0</td>\n",
              "      <td>1147195252</td>\n",
              "    </tr>\n",
              "    <tr>\n",
              "      <th>1</th>\n",
              "      <td>12882</td>\n",
              "      <td>32</td>\n",
              "      <td>3.5</td>\n",
              "      <td>1147195307</td>\n",
              "    </tr>\n",
              "    <tr>\n",
              "      <th>2</th>\n",
              "      <td>12882</td>\n",
              "      <td>47</td>\n",
              "      <td>5.0</td>\n",
              "      <td>1147195343</td>\n",
              "    </tr>\n",
              "    <tr>\n",
              "      <th>3</th>\n",
              "      <td>12882</td>\n",
              "      <td>50</td>\n",
              "      <td>5.0</td>\n",
              "      <td>1147185499</td>\n",
              "    </tr>\n",
              "    <tr>\n",
              "      <th>4</th>\n",
              "      <td>12882</td>\n",
              "      <td>110</td>\n",
              "      <td>4.5</td>\n",
              "      <td>1147195239</td>\n",
              "    </tr>\n",
              "  </tbody>\n",
              "</table>\n",
              "</div>"
            ],
            "text/plain": [
              "   userId  movieId  rating   timestamp\n",
              "0   12882        1     4.0  1147195252\n",
              "1   12882       32     3.5  1147195307\n",
              "2   12882       47     5.0  1147195343\n",
              "3   12882       50     5.0  1147185499\n",
              "4   12882      110     4.5  1147195239"
            ]
          },
          "metadata": {},
          "execution_count": 6
        }
      ]
    },
    {
      "cell_type": "markdown",
      "metadata": {
        "id": "ihfdI5GxE5e1"
      },
      "source": [
        " Một phương án có thể đề xuất Non-Personalized đó là gợi ý dựa trên rating trung bình của từng bộ phim, khi đó chúng ta sẽ chọn ra những bộ phim được đánh giá cao nhất."
      ]
    },
    {
      "cell_type": "code",
      "metadata": {
        "id": "PdGcJbHlRtq9"
      },
      "source": [
        "# Tính tổng rating của bộ phim.\n",
        "sumRatingPerItem = ratings.groupby('movieId')['rating'].sum()"
      ],
      "execution_count": null,
      "outputs": []
    },
    {
      "cell_type": "code",
      "metadata": {
        "colab": {
          "base_uri": "https://localhost:8080/"
        },
        "id": "0nq3Yi3FVqUv",
        "outputId": "4560cec4-c0a6-4e4d-b6a7-b091c3519d4c"
      },
      "source": [
        "sumRatingPerItem.head()"
      ],
      "execution_count": null,
      "outputs": [
        {
          "output_type": "execute_result",
          "data": {
            "text/plain": [
              "movieId\n",
              "1    1881.5\n",
              "2     856.5\n",
              "3     228.0\n",
              "4      33.5\n",
              "5     216.5\n",
              "Name: rating, dtype: float64"
            ]
          },
          "metadata": {},
          "execution_count": 32
        }
      ]
    },
    {
      "cell_type": "code",
      "metadata": {
        "id": "ivNn7lJMR917"
      },
      "source": [
        "# Tính số lượt được đánh giá của từng bộ phim\n",
        "countPerItem = ratings.groupby('movieId')['rating'].count()"
      ],
      "execution_count": null,
      "outputs": []
    },
    {
      "cell_type": "code",
      "metadata": {
        "id": "HQvyJsrASHWh"
      },
      "source": [
        "# Tính rating trung bình, sau đó sắp xếp theo thứ tự giảm dần.\n",
        "sortedItem = (sumRatingPerItem / countPerItem).sort_values(ascending=False)"
      ],
      "execution_count": null,
      "outputs": []
    },
    {
      "cell_type": "code",
      "metadata": {
        "colab": {
          "base_uri": "https://localhost:8080/"
        },
        "id": "9bm7urg_Sa3z",
        "outputId": "2fa702f8-4beb-4be0-fcb0-1a90e69ecf51"
      },
      "source": [
        "type(sortedItem)"
      ],
      "execution_count": null,
      "outputs": [
        {
          "output_type": "execute_result",
          "data": {
            "text/plain": [
              "pandas.core.series.Series"
            ]
          },
          "metadata": {},
          "execution_count": 20
        }
      ]
    },
    {
      "cell_type": "code",
      "metadata": {
        "id": "77krCzBOS8pK"
      },
      "source": [
        "recommendItem = sortedItem.iloc[:10].to_dict()"
      ],
      "execution_count": null,
      "outputs": []
    },
    {
      "cell_type": "code",
      "metadata": {
        "colab": {
          "base_uri": "https://localhost:8080/"
        },
        "id": "BSP_jfjNTURV",
        "outputId": "a24dc0c1-ce6b-45d1-daff-e18d4126fdfc"
      },
      "source": [
        "# Top 10 bộ phim có rating trung bình cao nhất.\n",
        "recommendItem.keys()"
      ],
      "execution_count": null,
      "outputs": [
        {
          "output_type": "execute_result",
          "data": {
            "text/plain": [
              "dict_keys([318, 858, 1248, 2959, 7502, 1203, 2859, 1221, 296, 2571])"
            ]
          },
          "metadata": {},
          "execution_count": 23
        }
      ]
    },
    {
      "cell_type": "markdown",
      "metadata": {
        "id": "DXUCAWtqF8JM"
      },
      "source": [
        " Đối với phương án trên, sẽ có vấn đề nảy sinh, đó là chẳng hạn có một bộ phim $i$ chỉ được đánh giá 1 lần với giá trị rating là 5 chẳng hạn. Khi đó bộ phim $i$ này hiển nhiên sẽ nằm trong danh sách đề xuất. Tuy nhiên với số lần đánh giá thấp như vậy thì chưa chắc bộ phim $i$ đã thực sự hay mà đơn giản nó chỉ phù hợp với 1 số đối tượng nhất định và hoàn toàn có thể bộ phim thứ $i$ này sẽ bị đánh giá thấp trong những lượt đánh giá tiếp theo. Để khắc phục tình trạng trên thì ta sẽ sử dụng một kỹ thuật gọi là **damping mean**, ta sẽ thêm vào cho mỗi bộ phim 1 lượng rating \"ảo\" với mức đánh giá là rating trung bình của toàn bộ dataset, ta dễ thấy khi số lượng rating càng nhiều thì rating của các bộ phim sẽ không còn chịu ảnh hưởng của giá trị damping này nữa."
      ]
    },
    {
      "cell_type": "code",
      "metadata": {
        "id": "2tvTpsUGU0_u"
      },
      "source": [
        "# Khởi tạo giá trị damping\n",
        "damping = 5"
      ],
      "execution_count": null,
      "outputs": []
    },
    {
      "cell_type": "code",
      "metadata": {
        "colab": {
          "base_uri": "https://localhost:8080/"
        },
        "id": "MC1tDObhU6Zr",
        "outputId": "61b95155-fcac-4097-dfd5-31621e34c9ca"
      },
      "source": [
        "globalSumRating = ratings['rating'].sum()\n",
        "globalCountRating = ratings['rating'].count()\n",
        "print(globalSumRating, globalCountRating)"
      ],
      "execution_count": null,
      "outputs": [
        {
          "output_type": "stream",
          "text": [
            "926842.0 264505\n"
          ],
          "name": "stdout"
        }
      ]
    },
    {
      "cell_type": "code",
      "metadata": {
        "colab": {
          "base_uri": "https://localhost:8080/"
        },
        "id": "MXbpbuEDVPiw",
        "outputId": "63572820-dc26-488e-b295-bf7d53da6399"
      },
      "source": [
        "# Rating trung bình của toàn bộ dataset\n",
        "alpha = globalSumRating / globalCountRating\n",
        "print(alpha)"
      ],
      "execution_count": null,
      "outputs": [
        {
          "output_type": "stream",
          "text": [
            "3.504062305060396\n"
          ],
          "name": "stdout"
        }
      ]
    },
    {
      "cell_type": "code",
      "metadata": {
        "id": "7TdkGu_3VW48"
      },
      "source": [
        "# Tính tổng rating + phần rating ảo thêm vào\n",
        "dampingSumRatingPerIten = sumRatingPerItem + damping * alpha"
      ],
      "execution_count": null,
      "outputs": []
    },
    {
      "cell_type": "code",
      "metadata": {
        "id": "6yGfgp1JV0SW"
      },
      "source": [
        "# Tính số lượt đánh giá + số lượt đánh giá ảo được thêm vào\n",
        "dampingCountPerItem = countPerItem + damping"
      ],
      "execution_count": null,
      "outputs": []
    },
    {
      "cell_type": "code",
      "metadata": {
        "id": "iIc8TqRKWABf"
      },
      "source": [
        "sortDampingItem = (dampingSumRatingPerIten / dampingCountPerItem).sort_values(ascending = False)"
      ],
      "execution_count": null,
      "outputs": []
    },
    {
      "cell_type": "code",
      "metadata": {
        "id": "LXR7_wHTWusW"
      },
      "source": [
        "dampingRecommendItem = sortDampingItem.iloc[:10].to_dict()"
      ],
      "execution_count": null,
      "outputs": []
    },
    {
      "cell_type": "code",
      "metadata": {
        "colab": {
          "base_uri": "https://localhost:8080/"
        },
        "id": "8l90iOWMW5nW",
        "outputId": "a7b81a28-6243-4935-8b75-63e88273adb5"
      },
      "source": [
        "# Các bộ phim được đề xuất dựa trên damping- mean, ở đây chúng ta sẽ thấy một số\n",
        "# phim đã không còn xuất hiện trong danh sách đề xuất.\n",
        "dampingRecommendItem.keys()"
      ],
      "execution_count": null,
      "outputs": [
        {
          "output_type": "execute_result",
          "data": {
            "text/plain": [
              "dict_keys([318, 858, 2959, 1203, 296, 7502, 1221, 1248, 2571, 4226])"
            ]
          },
          "metadata": {},
          "execution_count": 39
        }
      ]
    },
    {
      "cell_type": "code",
      "metadata": {
        "id": "uP4dT6FmDtBl"
      },
      "source": [
        "referenceItem = 260"
      ],
      "execution_count": null,
      "outputs": []
    },
    {
      "cell_type": "code",
      "metadata": {
        "id": "_TUPdymRDzeg"
      },
      "source": [
        "candidate = ratings[ratings['movieId'] == referenceItem]"
      ],
      "execution_count": null,
      "outputs": []
    },
    {
      "cell_type": "code",
      "metadata": {
        "colab": {
          "base_uri": "https://localhost:8080/"
        },
        "id": "MyIHVJBKGviT",
        "outputId": "a7c58513-6b78-4fbf-d0be-6130e177f086"
      },
      "source": [
        "len(candidate)"
      ],
      "execution_count": null,
      "outputs": [
        {
          "output_type": "execute_result",
          "data": {
            "text/plain": [
              "535"
            ]
          },
          "metadata": {},
          "execution_count": 5
        }
      ]
    },
    {
      "cell_type": "code",
      "metadata": {
        "id": "shi9khG-H9Yi"
      },
      "source": [
        "userList = list(candidate['userId'].values)"
      ],
      "execution_count": null,
      "outputs": []
    },
    {
      "cell_type": "code",
      "metadata": {
        "id": "bhZH-jDOImcx"
      },
      "source": [
        "ratingList = ratings[ratings['userId'].isin(userList)]"
      ],
      "execution_count": null,
      "outputs": []
    },
    {
      "cell_type": "code",
      "metadata": {
        "colab": {
          "base_uri": "https://localhost:8080/"
        },
        "id": "iovllCmmIz6B",
        "outputId": "6baa6db8-0cd7-4285-8c3c-ddd797165c8f"
      },
      "source": [
        "set(ratingList['userId'].values) == set(userList)"
      ],
      "execution_count": null,
      "outputs": [
        {
          "output_type": "execute_result",
          "data": {
            "text/plain": [
              "True"
            ]
          },
          "metadata": {},
          "execution_count": 65
        }
      ]
    },
    {
      "cell_type": "code",
      "metadata": {
        "id": "E9y7yQ6UI3tl"
      },
      "source": [
        "referenceItemCount = ratingList.groupby('movieId')['rating'].count()"
      ],
      "execution_count": null,
      "outputs": []
    },
    {
      "cell_type": "code",
      "metadata": {
        "colab": {
          "base_uri": "https://localhost:8080/"
        },
        "id": "AQoViyJoJGkZ",
        "outputId": "7f5cde0d-1a9c-4fa2-a6ad-90b0b33ca06e"
      },
      "source": [
        "referenceItemCount.max()"
      ],
      "execution_count": null,
      "outputs": [
        {
          "output_type": "execute_result",
          "data": {
            "text/plain": [
              "535"
            ]
          },
          "metadata": {},
          "execution_count": 12
        }
      ]
    },
    {
      "cell_type": "code",
      "metadata": {
        "id": "qq9BzcwzJJAj"
      },
      "source": [
        "confidence = (referenceItemCount / referenceItemCount[referenceItem]).sort_values(ascending = False)"
      ],
      "execution_count": null,
      "outputs": []
    },
    {
      "cell_type": "code",
      "metadata": {
        "colab": {
          "base_uri": "https://localhost:8080/"
        },
        "id": "fnBeX2TWJbcZ",
        "outputId": "18ddda4f-d1db-4809-87b7-b47679fda986"
      },
      "source": [
        "confidence[1:10].to_dict().keys()"
      ],
      "execution_count": null,
      "outputs": [
        {
          "output_type": "execute_result",
          "data": {
            "text/plain": [
              "dict_keys([2571, 1196, 4993, 1210, 356, 5952, 7153, 296, 1198])"
            ]
          },
          "metadata": {},
          "execution_count": 17
        }
      ]
    },
    {
      "cell_type": "markdown",
      "metadata": {
        "id": "jXDn09tQKC98"
      },
      "source": [
        "Đề xuất sử dụng **association rule**:\n",
        "- Ta thường gặp đề xuất dạng: \"Những người đã xem bộ phim **A** thì họ thường xem bộ phim **B**. Ở đây ta sẽ xây dựng các đề xuất dựa trên những luật như vậy dựa trên 2 giá trị là confidence và lift.\n",
        "- Confidence({A}->{B}) = $P(B | A)$ được tính như sau:\n",
        "$$ P(B | A) = \\frac{P(A \\cap B)}{P(A)}$$ \n",
        "- Lift({A} -> {B}):\n",
        "$$s(B|A) = \\frac {P(A \\cap B)} {P(A) P(B)}$$"
      ]
    },
    {
      "cell_type": "code",
      "metadata": {
        "id": "zTxOB-FqM1sz"
      },
      "source": [
        "def recommendByConfidence(ratings, referenceItem, topK=5):\n",
        "  userList = list(ratings[ratings['movieId'] == referenceItem]['userId'].values)\n",
        "  ratingSubset = ratings[ratings['userId'].isin(userList)]\n",
        "  intersectItemCount = ratingSubset.groupby('movieId')['rating'].count()\n",
        "  confidence = (intersectItemCount / intersectItemCount[referenceItem]).sort_values(ascending = False)\n",
        "  return list(confidence[1: topK + 1].to_dict().keys())"
      ],
      "execution_count": 69,
      "outputs": []
    },
    {
      "cell_type": "code",
      "metadata": {
        "colab": {
          "base_uri": "https://localhost:8080/"
        },
        "id": "GCEswT4rLw-S",
        "outputId": "4cc92427-5eb4-423f-eca8-234ad0285d4d"
      },
      "source": [
        "recommendByConfidence(ratings, 260)"
      ],
      "execution_count": 70,
      "outputs": [
        {
          "output_type": "execute_result",
          "data": {
            "text/plain": [
              "[2571, 1196, 4993, 1210, 356]"
            ]
          },
          "metadata": {},
          "execution_count": 70
        }
      ]
    },
    {
      "cell_type": "code",
      "metadata": {
        "id": "Fi4_89YrOZlM"
      },
      "source": [
        "def recommendByLift(ratings, referenceItem, topK=5):\n",
        "  userList = list(ratings[ratings['movieId'] == referenceItem]['userId'].values)\n",
        "  ratingIntersectSubset = ratings[ratings['userId'].isin(userList)]\n",
        "  intersectItemCount = ratingIntersectSubset.groupby('movieId')['rating'].count()\n",
        "  movieList = list(set(ratingIntersectSubset['movieId'].values))\n",
        "  ratingCandidateSubset = ratings[ratings['movieId'].isin(movieList)]\n",
        "  itemCount = ratingCandidateSubset.groupby('movieId')['rating'].count()\n",
        "  total = len(set(ratings['userId'].values))\n",
        "  print(total)\n",
        "  lift = (intersectItemCount * total / (itemCount * intersectItemCount[referenceItem])).sort_values(ascending = False)\n",
        "  print(lift[1:topK + 1])\n",
        "  return list(lift[1: topK + 1].to_dict().keys())"
      ],
      "execution_count": 72,
      "outputs": []
    },
    {
      "cell_type": "code",
      "metadata": {
        "colab": {
          "base_uri": "https://localhost:8080/"
        },
        "id": "dZnDKfSTMFe9",
        "outputId": "511003cf-7934-45ad-d10c-3f97fb2d8c1a"
      },
      "source": [
        "recommendByLift(ratings, 2761)"
      ],
      "execution_count": 73,
      "outputs": [
        {
          "output_type": "stream",
          "text": [
            "862\n",
            "movieId\n",
            "631     4.897727\n",
            "2532    4.810268\n",
            "3615    4.545703\n",
            "2439    4.489583\n",
            "1016    4.489583\n",
            "Name: rating, dtype: float64\n"
          ],
          "name": "stdout"
        },
        {
          "output_type": "execute_result",
          "data": {
            "text/plain": [
              "[631, 2532, 3615, 2439, 1016]"
            ]
          },
          "metadata": {},
          "execution_count": 73
        }
      ]
    }
  ]
}